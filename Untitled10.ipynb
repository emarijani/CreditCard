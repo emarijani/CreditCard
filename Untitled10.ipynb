{
 "cells": [
  {
   "cell_type": "code",
   "execution_count": 1,
   "id": "fc3bc8a4",
   "metadata": {},
   "outputs": [],
   "source": [
    "import pandas as pd\n",
    "import numpy as np"
   ]
  },
  {
   "cell_type": "code",
   "execution_count": 2,
   "id": "25f1bbe3",
   "metadata": {},
   "outputs": [],
   "source": [
    "import statsmodels.formula.api as sm\n",
    "import scipy.stats as stats"
   ]
  },
  {
   "cell_type": "code",
   "execution_count": 3,
   "id": "d0239c8e",
   "metadata": {},
   "outputs": [],
   "source": [
    "pd.set_option('display.max_columns', None) ## show all the columns in dataset\n",
    "pd.set_option('display.max_rows', None) ## show all rows in dataset"
   ]
  },
  {
   "cell_type": "code",
   "execution_count": 4,
   "id": "2854088c",
   "metadata": {},
   "outputs": [],
   "source": [
    "import seaborn as sns"
   ]
  },
  {
   "cell_type": "code",
   "execution_count": 5,
   "id": "227d8367",
   "metadata": {},
   "outputs": [
    {
     "data": {
      "text/html": [
       "<div>\n",
       "<style scoped>\n",
       "    .dataframe tbody tr th:only-of-type {\n",
       "        vertical-align: middle;\n",
       "    }\n",
       "\n",
       "    .dataframe tbody tr th {\n",
       "        vertical-align: top;\n",
       "    }\n",
       "\n",
       "    .dataframe thead th {\n",
       "        text-align: right;\n",
       "    }\n",
       "</style>\n",
       "<table border=\"1\" class=\"dataframe\">\n",
       "  <thead>\n",
       "    <tr style=\"text-align: right;\">\n",
       "      <th></th>\n",
       "      <th>ID</th>\n",
       "      <th>CODE_GENDER</th>\n",
       "      <th>FLAG_OWN_CAR</th>\n",
       "      <th>FLAG_OWN_REALTY</th>\n",
       "      <th>CNT_CHILDREN</th>\n",
       "      <th>AMT_INCOME_TOTAL</th>\n",
       "      <th>NAME_INCOME_TYPE</th>\n",
       "      <th>NAME_EDUCATION_TYPE</th>\n",
       "      <th>NAME_FAMILY_STATUS</th>\n",
       "      <th>NAME_HOUSING_TYPE</th>\n",
       "      <th>AGE</th>\n",
       "      <th>CURRENT EMPLOY</th>\n",
       "      <th>FLAG_MOBIL</th>\n",
       "      <th>FLAG_WORK_PHONE</th>\n",
       "      <th>FLAG_PHONE</th>\n",
       "      <th>FLAG_EMAIL</th>\n",
       "      <th>OCCUPATION_TYPE</th>\n",
       "      <th>CNT_FAM_MEMBERS</th>\n",
       "      <th>STATUS</th>\n",
       "      <th>APPROVED</th>\n",
       "    </tr>\n",
       "  </thead>\n",
       "  <tbody>\n",
       "    <tr>\n",
       "      <th>0</th>\n",
       "      <td>5008804</td>\n",
       "      <td>M</td>\n",
       "      <td>Y</td>\n",
       "      <td>Y</td>\n",
       "      <td>0</td>\n",
       "      <td>427500.0</td>\n",
       "      <td>Working</td>\n",
       "      <td>Higher education</td>\n",
       "      <td>Civil marriage</td>\n",
       "      <td>Rented apartment</td>\n",
       "      <td>32.890411</td>\n",
       "      <td>1</td>\n",
       "      <td>1</td>\n",
       "      <td>1</td>\n",
       "      <td>0</td>\n",
       "      <td>0</td>\n",
       "      <td>NaN</td>\n",
       "      <td>2</td>\n",
       "      <td>C</td>\n",
       "      <td>1</td>\n",
       "    </tr>\n",
       "    <tr>\n",
       "      <th>1</th>\n",
       "      <td>5008805</td>\n",
       "      <td>M</td>\n",
       "      <td>Y</td>\n",
       "      <td>Y</td>\n",
       "      <td>0</td>\n",
       "      <td>427500.0</td>\n",
       "      <td>Working</td>\n",
       "      <td>Higher education</td>\n",
       "      <td>Civil marriage</td>\n",
       "      <td>Rented apartment</td>\n",
       "      <td>32.890411</td>\n",
       "      <td>1</td>\n",
       "      <td>1</td>\n",
       "      <td>1</td>\n",
       "      <td>0</td>\n",
       "      <td>0</td>\n",
       "      <td>NaN</td>\n",
       "      <td>2</td>\n",
       "      <td>C</td>\n",
       "      <td>1</td>\n",
       "    </tr>\n",
       "    <tr>\n",
       "      <th>2</th>\n",
       "      <td>5008806</td>\n",
       "      <td>M</td>\n",
       "      <td>Y</td>\n",
       "      <td>Y</td>\n",
       "      <td>0</td>\n",
       "      <td>112500.0</td>\n",
       "      <td>Working</td>\n",
       "      <td>Secondary / secondary special</td>\n",
       "      <td>Married</td>\n",
       "      <td>House / apartment</td>\n",
       "      <td>58.832877</td>\n",
       "      <td>1</td>\n",
       "      <td>1</td>\n",
       "      <td>0</td>\n",
       "      <td>0</td>\n",
       "      <td>0</td>\n",
       "      <td>Security staff</td>\n",
       "      <td>2</td>\n",
       "      <td>C</td>\n",
       "      <td>1</td>\n",
       "    </tr>\n",
       "    <tr>\n",
       "      <th>3</th>\n",
       "      <td>5008808</td>\n",
       "      <td>F</td>\n",
       "      <td>N</td>\n",
       "      <td>Y</td>\n",
       "      <td>0</td>\n",
       "      <td>270000.0</td>\n",
       "      <td>Commercial associate</td>\n",
       "      <td>Secondary / secondary special</td>\n",
       "      <td>Single / not married</td>\n",
       "      <td>House / apartment</td>\n",
       "      <td>52.356164</td>\n",
       "      <td>1</td>\n",
       "      <td>1</td>\n",
       "      <td>0</td>\n",
       "      <td>1</td>\n",
       "      <td>1</td>\n",
       "      <td>Sales staff</td>\n",
       "      <td>1</td>\n",
       "      <td>0</td>\n",
       "      <td>0</td>\n",
       "    </tr>\n",
       "    <tr>\n",
       "      <th>4</th>\n",
       "      <td>5008810</td>\n",
       "      <td>F</td>\n",
       "      <td>N</td>\n",
       "      <td>Y</td>\n",
       "      <td>0</td>\n",
       "      <td>270000.0</td>\n",
       "      <td>Commercial associate</td>\n",
       "      <td>Secondary / secondary special</td>\n",
       "      <td>Single / not married</td>\n",
       "      <td>House / apartment</td>\n",
       "      <td>52.356164</td>\n",
       "      <td>1</td>\n",
       "      <td>1</td>\n",
       "      <td>0</td>\n",
       "      <td>1</td>\n",
       "      <td>1</td>\n",
       "      <td>Sales staff</td>\n",
       "      <td>1</td>\n",
       "      <td>C</td>\n",
       "      <td>1</td>\n",
       "    </tr>\n",
       "  </tbody>\n",
       "</table>\n",
       "</div>"
      ],
      "text/plain": [
       "        ID CODE_GENDER FLAG_OWN_CAR FLAG_OWN_REALTY  CNT_CHILDREN  \\\n",
       "0  5008804           M            Y               Y             0   \n",
       "1  5008805           M            Y               Y             0   \n",
       "2  5008806           M            Y               Y             0   \n",
       "3  5008808           F            N               Y             0   \n",
       "4  5008810           F            N               Y             0   \n",
       "\n",
       "   AMT_INCOME_TOTAL      NAME_INCOME_TYPE            NAME_EDUCATION_TYPE  \\\n",
       "0          427500.0               Working               Higher education   \n",
       "1          427500.0               Working               Higher education   \n",
       "2          112500.0               Working  Secondary / secondary special   \n",
       "3          270000.0  Commercial associate  Secondary / secondary special   \n",
       "4          270000.0  Commercial associate  Secondary / secondary special   \n",
       "\n",
       "     NAME_FAMILY_STATUS  NAME_HOUSING_TYPE        AGE  CURRENT EMPLOY  \\\n",
       "0        Civil marriage   Rented apartment  32.890411               1   \n",
       "1        Civil marriage   Rented apartment  32.890411               1   \n",
       "2               Married  House / apartment  58.832877               1   \n",
       "3  Single / not married  House / apartment  52.356164               1   \n",
       "4  Single / not married  House / apartment  52.356164               1   \n",
       "\n",
       "   FLAG_MOBIL  FLAG_WORK_PHONE  FLAG_PHONE  FLAG_EMAIL OCCUPATION_TYPE  \\\n",
       "0           1                1           0           0             NaN   \n",
       "1           1                1           0           0             NaN   \n",
       "2           1                0           0           0  Security staff   \n",
       "3           1                0           1           1     Sales staff   \n",
       "4           1                0           1           1     Sales staff   \n",
       "\n",
       "   CNT_FAM_MEMBERS STATUS  APPROVED  \n",
       "0                2      C         1  \n",
       "1                2      C         1  \n",
       "2                2      C         1  \n",
       "3                1      0         0  \n",
       "4                1      C         1  "
      ]
     },
     "execution_count": 5,
     "metadata": {},
     "output_type": "execute_result"
    }
   ],
   "source": [
    "df = pd.read_excel(\"CreditCardBalance.xlsx\")\n",
    "df.head()"
   ]
  },
  {
   "cell_type": "markdown",
   "id": "a15d7a4b",
   "metadata": {},
   "source": [
    "# Data Prep & Cleaning"
   ]
  },
  {
   "cell_type": "code",
   "execution_count": 6,
   "id": "e72ecccd",
   "metadata": {},
   "outputs": [
    {
     "data": {
      "text/plain": [
       "ID                        0\n",
       "CODE_GENDER               0\n",
       "FLAG_OWN_CAR              0\n",
       "FLAG_OWN_REALTY           0\n",
       "CNT_CHILDREN              0\n",
       "AMT_INCOME_TOTAL          0\n",
       "NAME_INCOME_TYPE          0\n",
       "NAME_EDUCATION_TYPE       0\n",
       "NAME_FAMILY_STATUS        0\n",
       "NAME_HOUSING_TYPE         0\n",
       "AGE                       0\n",
       "CURRENT EMPLOY            0\n",
       "FLAG_MOBIL                0\n",
       "FLAG_WORK_PHONE           0\n",
       "FLAG_PHONE                0\n",
       "FLAG_EMAIL                0\n",
       "OCCUPATION_TYPE        7629\n",
       "CNT_FAM_MEMBERS           0\n",
       "STATUS                    0\n",
       "APPROVED                  0\n",
       "dtype: int64"
      ]
     },
     "execution_count": 6,
     "metadata": {},
     "output_type": "execute_result"
    }
   ],
   "source": [
    "# missing data\n",
    "df.isnull().sum()"
   ]
  },
  {
   "cell_type": "code",
   "execution_count": 7,
   "id": "74c2e05e",
   "metadata": {},
   "outputs": [
    {
     "data": {
      "text/plain": [
       "ID                     0\n",
       "CODE_GENDER            0\n",
       "FLAG_OWN_CAR           0\n",
       "FLAG_OWN_REALTY        0\n",
       "CNT_CHILDREN           0\n",
       "AMT_INCOME_TOTAL       0\n",
       "NAME_INCOME_TYPE       0\n",
       "NAME_EDUCATION_TYPE    0\n",
       "NAME_FAMILY_STATUS     0\n",
       "NAME_HOUSING_TYPE      0\n",
       "AGE                    0\n",
       "CURRENT EMPLOY         0\n",
       "FLAG_MOBIL             0\n",
       "FLAG_WORK_PHONE        0\n",
       "FLAG_PHONE             0\n",
       "FLAG_EMAIL             0\n",
       "OCCUPATION_TYPE        0\n",
       "CNT_FAM_MEMBERS        0\n",
       "STATUS                 0\n",
       "APPROVED               0\n",
       "dtype: int64"
      ]
     },
     "execution_count": 7,
     "metadata": {},
     "output_type": "execute_result"
    }
   ],
   "source": [
    "df.dropna(inplace=True)\n",
    "\n",
    "#check\n",
    "df.isnull().sum()"
   ]
  },
  {
   "cell_type": "code",
   "execution_count": 8,
   "id": "27c9d791",
   "metadata": {},
   "outputs": [
    {
     "name": "stdout",
     "output_type": "stream",
     "text": [
      "<class 'pandas.core.frame.DataFrame'>\n",
      "Int64Index: 17043 entries, 2 to 24671\n",
      "Data columns (total 20 columns):\n",
      " #   Column               Non-Null Count  Dtype  \n",
      "---  ------               --------------  -----  \n",
      " 0   ID                   17043 non-null  int64  \n",
      " 1   CODE_GENDER          17043 non-null  object \n",
      " 2   FLAG_OWN_CAR         17043 non-null  object \n",
      " 3   FLAG_OWN_REALTY      17043 non-null  object \n",
      " 4   CNT_CHILDREN         17043 non-null  int64  \n",
      " 5   AMT_INCOME_TOTAL     17043 non-null  float64\n",
      " 6   NAME_INCOME_TYPE     17043 non-null  object \n",
      " 7   NAME_EDUCATION_TYPE  17043 non-null  object \n",
      " 8   NAME_FAMILY_STATUS   17043 non-null  object \n",
      " 9   NAME_HOUSING_TYPE    17043 non-null  object \n",
      " 10  AGE                  17043 non-null  float64\n",
      " 11  CURRENT EMPLOY       17043 non-null  int64  \n",
      " 12  FLAG_MOBIL           17043 non-null  int64  \n",
      " 13  FLAG_WORK_PHONE      17043 non-null  int64  \n",
      " 14  FLAG_PHONE           17043 non-null  int64  \n",
      " 15  FLAG_EMAIL           17043 non-null  int64  \n",
      " 16  OCCUPATION_TYPE      17043 non-null  object \n",
      " 17  CNT_FAM_MEMBERS      17043 non-null  int64  \n",
      " 18  STATUS               17043 non-null  object \n",
      " 19  APPROVED             17043 non-null  int64  \n",
      "dtypes: float64(2), int64(9), object(9)\n",
      "memory usage: 2.7+ MB\n"
     ]
    }
   ],
   "source": [
    "df.info()"
   ]
  },
  {
   "cell_type": "code",
   "execution_count": 9,
   "id": "19a2e94e",
   "metadata": {},
   "outputs": [
    {
     "data": {
      "text/plain": [
       "(17043, 20)"
      ]
     },
     "execution_count": 9,
     "metadata": {},
     "output_type": "execute_result"
    }
   ],
   "source": [
    "df.shape"
   ]
  },
  {
   "cell_type": "code",
   "execution_count": 10,
   "id": "0ea6dce3",
   "metadata": {},
   "outputs": [
    {
     "name": "stdout",
     "output_type": "stream",
     "text": [
      "starting shape: (17043, 20)\n"
     ]
    },
    {
     "ename": "TypeError",
     "evalue": "unsupported operand type(s) for /: 'str' and 'int'",
     "output_type": "error",
     "traceback": [
      "\u001b[1;31m---------------------------------------------------------------------------\u001b[0m",
      "\u001b[1;31mTypeError\u001b[0m                                 Traceback (most recent call last)",
      "Input \u001b[1;32mIn [10]\u001b[0m, in \u001b[0;36m<cell line: 7>\u001b[1;34m()\u001b[0m\n\u001b[0;32m      5\u001b[0m \u001b[38;5;66;03m## calculate zscores\u001b[39;00m\n\u001b[0;32m      6\u001b[0m df[\u001b[38;5;124m\"\u001b[39m\u001b[38;5;124mzscore_ID\u001b[39m\u001b[38;5;124m\"\u001b[39m] \u001b[38;5;241m=\u001b[39m np\u001b[38;5;241m.\u001b[39mabs(stats\u001b[38;5;241m.\u001b[39mzscore(df[\u001b[38;5;124m\"\u001b[39m\u001b[38;5;124mID\u001b[39m\u001b[38;5;124m\"\u001b[39m]))\n\u001b[1;32m----> 7\u001b[0m df[\u001b[38;5;124m\"\u001b[39m\u001b[38;5;124mzscore_CODE_GENDER\u001b[39m\u001b[38;5;124m\"\u001b[39m] \u001b[38;5;241m=\u001b[39m np\u001b[38;5;241m.\u001b[39mabs(\u001b[43mstats\u001b[49m\u001b[38;5;241;43m.\u001b[39;49m\u001b[43mzscore\u001b[49m\u001b[43m(\u001b[49m\u001b[43mdf\u001b[49m\u001b[43m[\u001b[49m\u001b[38;5;124;43m\"\u001b[39;49m\u001b[38;5;124;43mCODE_GENDER\u001b[39;49m\u001b[38;5;124;43m\"\u001b[39;49m\u001b[43m]\u001b[49m\u001b[43m)\u001b[49m)\n\u001b[0;32m      8\u001b[0m df[\u001b[38;5;124m\"\u001b[39m\u001b[38;5;124mzscore_FLAG_OWN_CAR\u001b[39m\u001b[38;5;124m\"\u001b[39m] \u001b[38;5;241m=\u001b[39m np\u001b[38;5;241m.\u001b[39mabs(stats\u001b[38;5;241m.\u001b[39mzscore(df[\u001b[38;5;124m\"\u001b[39m\u001b[38;5;124mFLAG_OWN_CAR\u001b[39m\u001b[38;5;124m\"\u001b[39m]))\n\u001b[0;32m      9\u001b[0m df[\u001b[38;5;124m\"\u001b[39m\u001b[38;5;124mzscore_FLAG_OWN_REALITY\u001b[39m\u001b[38;5;124m\"\u001b[39m] \u001b[38;5;241m=\u001b[39m np\u001b[38;5;241m.\u001b[39mabs(stats\u001b[38;5;241m.\u001b[39mzscore(df[\u001b[38;5;124m\"\u001b[39m\u001b[38;5;124mFLAG_OWN_REALITY\u001b[39m\u001b[38;5;124m\"\u001b[39m]))\n",
      "File \u001b[1;32m~\\anaconda3\\lib\\site-packages\\scipy\\stats\\stats.py:2474\u001b[0m, in \u001b[0;36mzscore\u001b[1;34m(a, axis, ddof, nan_policy)\u001b[0m\n\u001b[0;32m   2406\u001b[0m \u001b[38;5;28;01mdef\u001b[39;00m \u001b[38;5;21mzscore\u001b[39m(a, axis\u001b[38;5;241m=\u001b[39m\u001b[38;5;241m0\u001b[39m, ddof\u001b[38;5;241m=\u001b[39m\u001b[38;5;241m0\u001b[39m, nan_policy\u001b[38;5;241m=\u001b[39m\u001b[38;5;124m'\u001b[39m\u001b[38;5;124mpropagate\u001b[39m\u001b[38;5;124m'\u001b[39m):\n\u001b[0;32m   2407\u001b[0m     \u001b[38;5;124;03m\"\"\"\u001b[39;00m\n\u001b[0;32m   2408\u001b[0m \u001b[38;5;124;03m    Compute the z score.\u001b[39;00m\n\u001b[0;32m   2409\u001b[0m \n\u001b[1;32m   (...)\u001b[0m\n\u001b[0;32m   2472\u001b[0m \u001b[38;5;124;03m           [-0.91611681, -0.89090508,  1.4983032 ,  0.88731639, -0.5785977 ]])\u001b[39;00m\n\u001b[0;32m   2473\u001b[0m \u001b[38;5;124;03m    \"\"\"\u001b[39;00m\n\u001b[1;32m-> 2474\u001b[0m     \u001b[38;5;28;01mreturn\u001b[39;00m \u001b[43mzmap\u001b[49m\u001b[43m(\u001b[49m\u001b[43ma\u001b[49m\u001b[43m,\u001b[49m\u001b[43m \u001b[49m\u001b[43ma\u001b[49m\u001b[43m,\u001b[49m\u001b[43m \u001b[49m\u001b[43maxis\u001b[49m\u001b[38;5;241;43m=\u001b[39;49m\u001b[43maxis\u001b[49m\u001b[43m,\u001b[49m\u001b[43m \u001b[49m\u001b[43mddof\u001b[49m\u001b[38;5;241;43m=\u001b[39;49m\u001b[43mddof\u001b[49m\u001b[43m,\u001b[49m\u001b[43m \u001b[49m\u001b[43mnan_policy\u001b[49m\u001b[38;5;241;43m=\u001b[39;49m\u001b[43mnan_policy\u001b[49m\u001b[43m)\u001b[49m\n",
      "File \u001b[1;32m~\\anaconda3\\lib\\site-packages\\scipy\\stats\\stats.py:2544\u001b[0m, in \u001b[0;36mzmap\u001b[1;34m(scores, compare, axis, ddof, nan_policy)\u001b[0m\n\u001b[0;32m   2542\u001b[0m         isconst \u001b[38;5;241m=\u001b[39m np\u001b[38;5;241m.\u001b[39mapply_along_axis(_isconst, axis, a)\n\u001b[0;32m   2543\u001b[0m \u001b[38;5;28;01melse\u001b[39;00m:\n\u001b[1;32m-> 2544\u001b[0m     mn \u001b[38;5;241m=\u001b[39m \u001b[43ma\u001b[49m\u001b[38;5;241;43m.\u001b[39;49m\u001b[43mmean\u001b[49m\u001b[43m(\u001b[49m\u001b[43maxis\u001b[49m\u001b[38;5;241;43m=\u001b[39;49m\u001b[43maxis\u001b[49m\u001b[43m,\u001b[49m\u001b[43m \u001b[49m\u001b[43mkeepdims\u001b[49m\u001b[38;5;241;43m=\u001b[39;49m\u001b[38;5;28;43;01mTrue\u001b[39;49;00m\u001b[43m)\u001b[49m\n\u001b[0;32m   2545\u001b[0m     std \u001b[38;5;241m=\u001b[39m a\u001b[38;5;241m.\u001b[39mstd(axis\u001b[38;5;241m=\u001b[39maxis, ddof\u001b[38;5;241m=\u001b[39mddof, keepdims\u001b[38;5;241m=\u001b[39m\u001b[38;5;28;01mTrue\u001b[39;00m)\n\u001b[0;32m   2546\u001b[0m     \u001b[38;5;28;01mif\u001b[39;00m axis \u001b[38;5;129;01mis\u001b[39;00m \u001b[38;5;28;01mNone\u001b[39;00m:\n",
      "File \u001b[1;32m~\\anaconda3\\lib\\site-packages\\numpy\\core\\_methods.py:181\u001b[0m, in \u001b[0;36m_mean\u001b[1;34m(a, axis, dtype, out, keepdims, where)\u001b[0m\n\u001b[0;32m    179\u001b[0m ret \u001b[38;5;241m=\u001b[39m umr_sum(arr, axis, dtype, out, keepdims, where\u001b[38;5;241m=\u001b[39mwhere)\n\u001b[0;32m    180\u001b[0m \u001b[38;5;28;01mif\u001b[39;00m \u001b[38;5;28misinstance\u001b[39m(ret, mu\u001b[38;5;241m.\u001b[39mndarray):\n\u001b[1;32m--> 181\u001b[0m     ret \u001b[38;5;241m=\u001b[39m \u001b[43mum\u001b[49m\u001b[38;5;241;43m.\u001b[39;49m\u001b[43mtrue_divide\u001b[49m\u001b[43m(\u001b[49m\n\u001b[0;32m    182\u001b[0m \u001b[43m            \u001b[49m\u001b[43mret\u001b[49m\u001b[43m,\u001b[49m\u001b[43m \u001b[49m\u001b[43mrcount\u001b[49m\u001b[43m,\u001b[49m\u001b[43m \u001b[49m\u001b[43mout\u001b[49m\u001b[38;5;241;43m=\u001b[39;49m\u001b[43mret\u001b[49m\u001b[43m,\u001b[49m\u001b[43m \u001b[49m\u001b[43mcasting\u001b[49m\u001b[38;5;241;43m=\u001b[39;49m\u001b[38;5;124;43m'\u001b[39;49m\u001b[38;5;124;43munsafe\u001b[39;49m\u001b[38;5;124;43m'\u001b[39;49m\u001b[43m,\u001b[49m\u001b[43m \u001b[49m\u001b[43msubok\u001b[49m\u001b[38;5;241;43m=\u001b[39;49m\u001b[38;5;28;43;01mFalse\u001b[39;49;00m\u001b[43m)\u001b[49m\n\u001b[0;32m    183\u001b[0m     \u001b[38;5;28;01mif\u001b[39;00m is_float16_result \u001b[38;5;129;01mand\u001b[39;00m out \u001b[38;5;129;01mis\u001b[39;00m \u001b[38;5;28;01mNone\u001b[39;00m:\n\u001b[0;32m    184\u001b[0m         ret \u001b[38;5;241m=\u001b[39m arr\u001b[38;5;241m.\u001b[39mdtype\u001b[38;5;241m.\u001b[39mtype(ret)\n",
      "\u001b[1;31mTypeError\u001b[0m: unsupported operand type(s) for /: 'str' and 'int'"
     ]
    }
   ],
   "source": [
    "## Using the z-score method for outlier identification and removal \n",
    "\n",
    "## starting shape\n",
    "print (\"starting shape:\", df.shape)\n",
    "## calculate zscores\n",
    "df[\"zscore_ID\"] = np.abs(stats.zscore(df[\"ID\"]))\n",
    "df[\"zscore_CODE_GENDER\"] = np.abs(stats.zscore(df[\"CODE_GENDER\"]))\n",
    "df[\"zscore_FLAG_OWN_CAR\"] = np.abs(stats.zscore(df[\"FLAG_OWN_CAR\"]))\n",
    "df[\"zscore_FLAG_OWN_REALITY\"] = np.abs(stats.zscore(df[\"FLAG_OWN_REALITY\"]))\n",
    "df[\"zscore_ CNT_CHILDREN\"] = np.abs(stats.zscore(df[\"CNT_CHILDREN\"]))\n",
    "df[\"zscore_CNT_CHILDREN\"] = np.abs(stats.zscore(df[\"CNT_CHILDREN\"]))\n",
    "df[\"zscore_AMT_INCOME_TOTAL\"] = np.abs(stats.zscore(df[\"AMT_INCOME_TOTAL\"]))\n",
    "df[\"zscore_NAME_INCOME_TYPE\"] = np.abs(stats.zscore(df[\"NAME_INCOME_TYPE\"]))\n",
    "\n",
    "\n",
    "###"
   ]
  },
  {
   "cell_type": "code",
   "execution_count": 11,
   "id": "270530ac",
   "metadata": {},
   "outputs": [
    {
     "name": "stdout",
     "output_type": "stream",
     "text": [
      "starting shape: (17043, 21)\n"
     ]
    }
   ],
   "source": []
  },
  {
   "attachments": {},
   "cell_type": "markdown",
   "id": "b3f0b395",
   "metadata": {},
   "source": [
    "# Profiling the Client Population!"
   ]
  },
  {
   "cell_type": "code",
   "execution_count": 12,
   "id": "b777550a",
   "metadata": {},
   "outputs": [
    {
     "data": {
      "text/html": [
       "<div>\n",
       "<style scoped>\n",
       "    .dataframe tbody tr th:only-of-type {\n",
       "        vertical-align: middle;\n",
       "    }\n",
       "\n",
       "    .dataframe tbody tr th {\n",
       "        vertical-align: top;\n",
       "    }\n",
       "\n",
       "    .dataframe thead th {\n",
       "        text-align: right;\n",
       "    }\n",
       "</style>\n",
       "<table border=\"1\" class=\"dataframe\">\n",
       "  <thead>\n",
       "    <tr style=\"text-align: right;\">\n",
       "      <th></th>\n",
       "      <th>ID</th>\n",
       "      <th>CNT_CHILDREN</th>\n",
       "      <th>AMT_INCOME_TOTAL</th>\n",
       "      <th>AGE</th>\n",
       "      <th>CURRENT EMPLOY</th>\n",
       "      <th>FLAG_MOBIL</th>\n",
       "      <th>FLAG_WORK_PHONE</th>\n",
       "      <th>FLAG_PHONE</th>\n",
       "      <th>FLAG_EMAIL</th>\n",
       "      <th>CNT_FAM_MEMBERS</th>\n",
       "      <th>APPROVED</th>\n",
       "      <th>zscore_ID</th>\n",
       "    </tr>\n",
       "  </thead>\n",
       "  <tbody>\n",
       "    <tr>\n",
       "      <th>count</th>\n",
       "      <td>1.704300e+04</td>\n",
       "      <td>17043.000000</td>\n",
       "      <td>1.704300e+04</td>\n",
       "      <td>17043.000000</td>\n",
       "      <td>17043.000000</td>\n",
       "      <td>17043.0</td>\n",
       "      <td>17043.000000</td>\n",
       "      <td>17043.000000</td>\n",
       "      <td>17043.000000</td>\n",
       "      <td>17043.000000</td>\n",
       "      <td>17043.000000</td>\n",
       "      <td>17043.000000</td>\n",
       "    </tr>\n",
       "    <tr>\n",
       "      <th>mean</th>\n",
       "      <td>5.079323e+06</td>\n",
       "      <td>0.498328</td>\n",
       "      <td>1.953770e+05</td>\n",
       "      <td>40.699356</td>\n",
       "      <td>0.997712</td>\n",
       "      <td>1.0</td>\n",
       "      <td>0.276418</td>\n",
       "      <td>0.290911</td>\n",
       "      <td>0.101391</td>\n",
       "      <td>2.274071</td>\n",
       "      <td>0.705744</td>\n",
       "      <td>0.878946</td>\n",
       "    </tr>\n",
       "    <tr>\n",
       "      <th>std</th>\n",
       "      <td>4.172272e+04</td>\n",
       "      <td>0.793734</td>\n",
       "      <td>1.049344e+05</td>\n",
       "      <td>9.543564</td>\n",
       "      <td>0.047783</td>\n",
       "      <td>0.0</td>\n",
       "      <td>0.447239</td>\n",
       "      <td>0.454196</td>\n",
       "      <td>0.301854</td>\n",
       "      <td>0.944127</td>\n",
       "      <td>0.455721</td>\n",
       "      <td>0.476935</td>\n",
       "    </tr>\n",
       "    <tr>\n",
       "      <th>min</th>\n",
       "      <td>5.008806e+06</td>\n",
       "      <td>0.000000</td>\n",
       "      <td>2.700000e+04</td>\n",
       "      <td>20.517808</td>\n",
       "      <td>0.000000</td>\n",
       "      <td>1.0</td>\n",
       "      <td>0.000000</td>\n",
       "      <td>0.000000</td>\n",
       "      <td>0.000000</td>\n",
       "      <td>1.000000</td>\n",
       "      <td>0.000000</td>\n",
       "      <td>0.000489</td>\n",
       "    </tr>\n",
       "    <tr>\n",
       "      <th>25%</th>\n",
       "      <td>5.045671e+06</td>\n",
       "      <td>0.000000</td>\n",
       "      <td>1.350000e+05</td>\n",
       "      <td>32.936986</td>\n",
       "      <td>1.000000</td>\n",
       "      <td>1.0</td>\n",
       "      <td>0.000000</td>\n",
       "      <td>0.000000</td>\n",
       "      <td>0.000000</td>\n",
       "      <td>2.000000</td>\n",
       "      <td>0.000000</td>\n",
       "      <td>0.417337</td>\n",
       "    </tr>\n",
       "    <tr>\n",
       "      <th>50%</th>\n",
       "      <td>5.078987e+06</td>\n",
       "      <td>0.000000</td>\n",
       "      <td>1.800000e+05</td>\n",
       "      <td>40.131507</td>\n",
       "      <td>1.000000</td>\n",
       "      <td>1.0</td>\n",
       "      <td>0.000000</td>\n",
       "      <td>0.000000</td>\n",
       "      <td>0.000000</td>\n",
       "      <td>2.000000</td>\n",
       "      <td>1.000000</td>\n",
       "      <td>0.844327</td>\n",
       "    </tr>\n",
       "    <tr>\n",
       "      <th>75%</th>\n",
       "      <td>5.115642e+06</td>\n",
       "      <td>1.000000</td>\n",
       "      <td>2.250000e+05</td>\n",
       "      <td>47.961644</td>\n",
       "      <td>1.000000</td>\n",
       "      <td>1.0</td>\n",
       "      <td>1.000000</td>\n",
       "      <td>1.000000</td>\n",
       "      <td>0.000000</td>\n",
       "      <td>3.000000</td>\n",
       "      <td>1.000000</td>\n",
       "      <td>1.323033</td>\n",
       "    </tr>\n",
       "    <tr>\n",
       "      <th>max</th>\n",
       "      <td>5.150487e+06</td>\n",
       "      <td>19.000000</td>\n",
       "      <td>1.575000e+06</td>\n",
       "      <td>67.427397</td>\n",
       "      <td>1.000000</td>\n",
       "      <td>1.0</td>\n",
       "      <td>1.000000</td>\n",
       "      <td>1.000000</td>\n",
       "      <td>1.000000</td>\n",
       "      <td>20.000000</td>\n",
       "      <td>1.000000</td>\n",
       "      <td>1.705682</td>\n",
       "    </tr>\n",
       "  </tbody>\n",
       "</table>\n",
       "</div>"
      ],
      "text/plain": [
       "                 ID  CNT_CHILDREN  AMT_INCOME_TOTAL           AGE  \\\n",
       "count  1.704300e+04  17043.000000      1.704300e+04  17043.000000   \n",
       "mean   5.079323e+06      0.498328      1.953770e+05     40.699356   \n",
       "std    4.172272e+04      0.793734      1.049344e+05      9.543564   \n",
       "min    5.008806e+06      0.000000      2.700000e+04     20.517808   \n",
       "25%    5.045671e+06      0.000000      1.350000e+05     32.936986   \n",
       "50%    5.078987e+06      0.000000      1.800000e+05     40.131507   \n",
       "75%    5.115642e+06      1.000000      2.250000e+05     47.961644   \n",
       "max    5.150487e+06     19.000000      1.575000e+06     67.427397   \n",
       "\n",
       "       CURRENT EMPLOY  FLAG_MOBIL  FLAG_WORK_PHONE    FLAG_PHONE  \\\n",
       "count    17043.000000     17043.0     17043.000000  17043.000000   \n",
       "mean         0.997712         1.0         0.276418      0.290911   \n",
       "std          0.047783         0.0         0.447239      0.454196   \n",
       "min          0.000000         1.0         0.000000      0.000000   \n",
       "25%          1.000000         1.0         0.000000      0.000000   \n",
       "50%          1.000000         1.0         0.000000      0.000000   \n",
       "75%          1.000000         1.0         1.000000      1.000000   \n",
       "max          1.000000         1.0         1.000000      1.000000   \n",
       "\n",
       "         FLAG_EMAIL  CNT_FAM_MEMBERS      APPROVED     zscore_ID  \n",
       "count  17043.000000     17043.000000  17043.000000  17043.000000  \n",
       "mean       0.101391         2.274071      0.705744      0.878946  \n",
       "std        0.301854         0.944127      0.455721      0.476935  \n",
       "min        0.000000         1.000000      0.000000      0.000489  \n",
       "25%        0.000000         2.000000      0.000000      0.417337  \n",
       "50%        0.000000         2.000000      1.000000      0.844327  \n",
       "75%        0.000000         3.000000      1.000000      1.323033  \n",
       "max        1.000000        20.000000      1.000000      1.705682  "
      ]
     },
     "execution_count": 12,
     "metadata": {},
     "output_type": "execute_result"
    }
   ],
   "source": [
    "df.describe()"
   ]
  },
  {
   "cell_type": "code",
   "execution_count": 14,
   "id": "47922fe2",
   "metadata": {},
   "outputs": [
    {
     "data": {
      "text/plain": [
       "F    10510\n",
       "M     6533\n",
       "Name: CODE_GENDER, dtype: int64"
      ]
     },
     "execution_count": 14,
     "metadata": {},
     "output_type": "execute_result"
    }
   ],
   "source": [
    "df[\"CODE_GENDER\"].value_counts()"
   ]
  },
  {
   "cell_type": "code",
   "execution_count": 15,
   "id": "1a0c06fd",
   "metadata": {},
   "outputs": [
    {
     "data": {
      "text/plain": [
       "0     11001\n",
       "1      3977\n",
       "2      1786\n",
       "3       226\n",
       "4        40\n",
       "5         9\n",
       "14        3\n",
       "19        1\n",
       "Name: CNT_CHILDREN, dtype: int64"
      ]
     },
     "execution_count": 15,
     "metadata": {},
     "output_type": "execute_result"
    }
   ],
   "source": [
    "df[\"CNT_CHILDREN\"].value_counts()"
   ]
  },
  {
   "cell_type": "code",
   "execution_count": 16,
   "id": "6bd80563",
   "metadata": {},
   "outputs": [
    {
     "data": {
      "text/plain": [
       "1    12028\n",
       "0     5015\n",
       "Name: APPROVED, dtype: int64"
      ]
     },
     "execution_count": 16,
     "metadata": {},
     "output_type": "execute_result"
    }
   ],
   "source": [
    "df[\"APPROVED\"].value_counts()"
   ]
  },
  {
   "cell_type": "code",
   "execution_count": 17,
   "id": "01d89adc",
   "metadata": {},
   "outputs": [
    {
     "data": {
      "text/plain": [
       "0.4983277591973244"
      ]
     },
     "execution_count": 17,
     "metadata": {},
     "output_type": "execute_result"
    }
   ],
   "source": [
    "df[\"CNT_CHILDREN\"].mean()"
   ]
  },
  {
   "cell_type": "code",
   "execution_count": 18,
   "id": "1a220d1d",
   "metadata": {},
   "outputs": [
    {
     "data": {
      "text/plain": [
       "19"
      ]
     },
     "execution_count": 18,
     "metadata": {},
     "output_type": "execute_result"
    }
   ],
   "source": [
    "df[\"CNT_CHILDREN\"].max()"
   ]
  },
  {
   "cell_type": "code",
   "execution_count": 19,
   "id": "33792262",
   "metadata": {},
   "outputs": [
    {
     "data": {
      "text/plain": [
       "0"
      ]
     },
     "execution_count": 19,
     "metadata": {},
     "output_type": "execute_result"
    }
   ],
   "source": [
    "df[\"CNT_CHILDREN\"].min()"
   ]
  },
  {
   "cell_type": "code",
   "execution_count": 20,
   "id": "2d15f2c6",
   "metadata": {},
   "outputs": [
    {
     "data": {
      "text/plain": [
       "1575000.0"
      ]
     },
     "execution_count": 20,
     "metadata": {},
     "output_type": "execute_result"
    }
   ],
   "source": [
    "df[\"AMT_INCOME_TOTAL\"].max()"
   ]
  },
  {
   "cell_type": "code",
   "execution_count": 21,
   "id": "b62f1d1d",
   "metadata": {},
   "outputs": [
    {
     "data": {
      "text/plain": [
       "195376.9808132371"
      ]
     },
     "execution_count": 21,
     "metadata": {},
     "output_type": "execute_result"
    }
   ],
   "source": [
    "df[\"AMT_INCOME_TOTAL\"].mean()"
   ]
  },
  {
   "cell_type": "code",
   "execution_count": 22,
   "id": "0200b9e6",
   "metadata": {},
   "outputs": [
    {
     "data": {
      "text/plain": [
       "27000.0"
      ]
     },
     "execution_count": 22,
     "metadata": {},
     "output_type": "execute_result"
    }
   ],
   "source": [
    "df[\"AMT_INCOME_TOTAL\"].min()"
   ]
  },
  {
   "cell_type": "code",
   "execution_count": 25,
   "id": "02d29a06",
   "metadata": {},
   "outputs": [
    {
     "data": {
      "text/plain": [
       "CODE_GENDER\n",
       "F    0.702854\n",
       "M    0.710393\n",
       "Name: APPROVED, dtype: float64"
      ]
     },
     "execution_count": 25,
     "metadata": {},
     "output_type": "execute_result"
    }
   ],
   "source": [
    "df[\"APPROVED\"].groupby(df[\"CODE_GENDER\"]).mean() \n",
    "#Approval rate is slightly higher for the males "
   ]
  },
  {
   "cell_type": "code",
   "execution_count": 27,
   "id": "324ab65b",
   "metadata": {},
   "outputs": [
    {
     "data": {
      "text/plain": [
       "NAME_EDUCATION_TYPE\n",
       "Academic degree                  0.900000\n",
       "Higher education                 0.718489\n",
       "Incomplete higher                0.675994\n",
       "Lower secondary                  0.650350\n",
       "Secondary / secondary special    0.702689\n",
       "Name: APPROVED, dtype: float64"
      ]
     },
     "execution_count": 27,
     "metadata": {},
     "output_type": "execute_result"
    }
   ],
   "source": [
    "df[\"APPROVED\"].groupby(df[\"NAME_EDUCATION_TYPE\"]).mean() \n",
    "#Approval rate is higher for clients who has academic degree"
   ]
  },
  {
   "cell_type": "code",
   "execution_count": 28,
   "id": "f6e56b1f",
   "metadata": {},
   "outputs": [
    {
     "data": {
      "text/plain": [
       "NAME_HOUSING_TYPE\n",
       "Co-op apartment        0.708333\n",
       "House / apartment      0.704626\n",
       "Municipal apartment    0.686941\n",
       "Office apartment       0.712121\n",
       "Rented apartment       0.694915\n",
       "With parents           0.735714\n",
       "Name: APPROVED, dtype: float64"
      ]
     },
     "execution_count": 28,
     "metadata": {},
     "output_type": "execute_result"
    }
   ],
   "source": [
    "df[\"APPROVED\"].groupby(df[\"NAME_HOUSING_TYPE\"]).mean() \n",
    "#Approval rate is lower for clients resides in municipal apartment"
   ]
  },
  {
   "cell_type": "code",
   "execution_count": 29,
   "id": "d5cdb637",
   "metadata": {},
   "outputs": [
    {
     "data": {
      "text/plain": [
       "CURRENT EMPLOY\n",
       "0    0.000000\n",
       "1    0.707363\n",
       "Name: APPROVED, dtype: float64"
      ]
     },
     "execution_count": 29,
     "metadata": {},
     "output_type": "execute_result"
    }
   ],
   "source": [
    "df[\"APPROVED\"].groupby(df[\"CURRENT EMPLOY\"]).mean() \n",
    "#Approval rate is higher for clients who are current employed"
   ]
  },
  {
   "cell_type": "code",
   "execution_count": null,
   "id": "8f5dbb40",
   "metadata": {},
   "outputs": [],
   "source": [
    "OCCUPATION_TYPE"
   ]
  },
  {
   "cell_type": "code",
   "execution_count": 31,
   "id": "caf2efb7",
   "metadata": {},
   "outputs": [
    {
     "data": {
      "text/plain": [
       "FLAG_OWN_CAR\n",
       "N    0.701252\n",
       "Y    0.711983\n",
       "Name: APPROVED, dtype: float64"
      ]
     },
     "execution_count": 31,
     "metadata": {},
     "output_type": "execute_result"
    }
   ],
   "source": [
    "df[\"APPROVED\"].groupby(df[\"FLAG_OWN_CAR\"]).mean() \n",
    "#Approval rate is higher for clients who has cars"
   ]
  },
  {
   "cell_type": "code",
   "execution_count": 32,
   "id": "6ba602db",
   "metadata": {},
   "outputs": [
    {
     "name": "stdout",
     "output_type": "stream",
     "text": [
      "1    17004\n",
      "0       39\n",
      "Name: CURRENT EMPLOY, dtype: int64\n"
     ]
    },
    {
     "data": {
      "text/plain": [
       "<AxesSubplot:xlabel='CURRENT EMPLOY', ylabel='count'>"
      ]
     },
     "execution_count": 32,
     "metadata": {},
     "output_type": "execute_result"
    },
    {
     "data": {
      "image/png": "[encoded data removed]",
      "text/plain": [
       "<Figure size 432x288 with 1 Axes>"
      ]
     },
     "metadata": {
      "needs_background": "light"
     },
     "output_type": "display_data"
    }
   ],
   "source": [
    "###\n",
    "\n",
    "print(df[\"CURRENT EMPLOY\"].value_counts())\n",
    "\n",
    "###\n",
    "\n",
    "sns.countplot(data = df, x = \"CURRENT EMPLOY\")"
   ]
  },
  {
   "cell_type": "code",
   "execution_count": 36,
   "id": "97295bd2",
   "metadata": {},
   "outputs": [
    {
     "name": "stdout",
     "output_type": "stream",
     "text": [
      "Laborers                 4293\n",
      "Core staff               2381\n",
      "Sales staff              2328\n",
      "Managers                 2008\n",
      "Drivers                  1504\n",
      "High skill tech staff     950\n",
      "Accountants               853\n",
      "Medicine staff            796\n",
      "Cooking staff             449\n",
      "Security staff            406\n",
      "Cleaning staff            385\n",
      "Private service staff     235\n",
      "Low-skill Laborers        123\n",
      "Secretaries                98\n",
      "Waiters/barmen staff       88\n",
      "HR staff                   53\n",
      "Realty agents              47\n",
      "IT staff                   46\n",
      "Name: OCCUPATION_TYPE, dtype: int64\n"
     ]
    },
    {
     "data": {
      "text/plain": [
       "<AxesSubplot:xlabel='count', ylabel='OCCUPATION_TYPE'>"
      ]
     },
     "execution_count": 36,
     "metadata": {},
     "output_type": "execute_result"
    },
    {
     "data": {
      "image/png": "[encoded data removed]",
      "text/plain": [
       "<Figure size 432x288 with 1 Axes>"
      ]
     },
     "metadata": {
      "needs_background": "light"
     },
     "output_type": "display_data"
    }
   ],
   "source": [
    "###\n",
    "\n",
    "print(df[\"OCCUPATION_TYPE\"].value_counts())\n",
    "\n",
    "### majority of the clients are laborers\n",
    "\n",
    "sns.countplot(data = df, y = \"OCCUPATION_TYPE\")"
   ]
  },
  {
   "cell_type": "code",
   "execution_count": null,
   "id": "0a741f1d",
   "metadata": {},
   "outputs": [],
   "source": [
    "# # Young adult = 18.1 -25\n",
    "# Mid Adult = 25.1 - 30\n",
    "# Adult = 30.1 - 50\n",
    "# Senior = 50+\n",
    "\n",
    "#### STEP 1: create the bin limits \n",
    "bins = [25, 30, 50, 60]\n",
    "    \n",
    "## the bin limits are the cutoff points for the values\n",
    "## each number shown is the cutoff for a specific group (0-60, 60.1 - 70, 70.1 - 80...)\n",
    "bin_labels = [\"Young adult\", \"Mid Adult\", \"Adult\"]\n",
    "## the bin labels are the group names that will be created\n",
    "## there should always be one less group than bins\n",
    "#### STEP 2: apply your bins to a specific column (or create new column) in dataset \n",
    "## new column = pd.cut(column to apply to, bin cutoff list, labels = list of bin labels)\n",
    "# pd.cut function segments and organizes values into the appropriate bin\n",
    "df[\"AGE GROUP\"] = pd.cut(df[\"AGE\"], bins, labels = bin_labels)\n",
    "#### STEP 3: check changes,\n",
    "df"
   ]
  },
  {
   "cell_type": "code",
   "execution_count": null,
   "id": "4993eb8e",
   "metadata": {},
   "outputs": [],
   "source": []
  }
 ],
 "metadata": {
  "kernelspec": {
   "display_name": "Python 3 (ipykernel)",
   "language": "python",
   "name": "python3"
  },
  "language_info": {
   "codemirror_mode": {
    "name": "ipython",
    "version": 3
   },
   "file_extension": ".py",
   "mimetype": "text/x-python",
   "name": "python",
   "nbconvert_exporter": "python",
   "pygments_lexer": "ipython3",
   "version": "3.9.12"
  }
 },
 "nbformat": 4,
 "nbformat_minor": 5
}
